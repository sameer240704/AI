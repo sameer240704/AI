{
 "cells": [
  {
   "cell_type": "code",
   "execution_count": 15,
   "id": "de5a0a68",
   "metadata": {},
   "outputs": [],
   "source": [
    "def aStarAlgo(start_node, stop_node):\n",
    "    open_set = set([start_node])  # Fix: Initialize open_set as a set with start_node\n",
    "    closed_set = set()\n",
    "    g = {start_node: 0}  # Initialize g with the distance from start_node\n",
    "    parents = {start_node: start_node}  # Initialize parents with the start_node itself as parent\n",
    "    while len(open_set) > 0:\n",
    "        n = None\n",
    "        for v in open_set:\n",
    "            if n is None or g[v] + heuristic(v) < g[n] + heuristic(n):\n",
    "                n = v\n",
    "        if n == stop_node or Graph_nodes[n] is None:\n",
    "            pass\n",
    "        else:\n",
    "            for (m, weight) in get_neighbors(n):\n",
    "                if m not in open_set and m not in closed_set:\n",
    "                    open_set.add(m)\n",
    "                    parents[m] = n\n",
    "                    g[m] = g[n] + weight\n",
    "                else:\n",
    "                    if g[m] > g[n] + weight:\n",
    "                        g[m] = g[n] + weight\n",
    "                        parents[m] = n\n",
    "                        if m in closed_set:\n",
    "                            closed_set.remove(m)\n",
    "                            open_set.add(m)\n",
    "        if n is None:\n",
    "            print('Path does not exist!')\n",
    "            return None\n",
    "        \n",
    "        if n == stop_node:\n",
    "            path = []\n",
    "            while parents[n] != n:\n",
    "                path.append(n)\n",
    "                n = parents[n]\n",
    "            path.append(start_node)\n",
    "            path.reverse()\n",
    "            distance = g[stop_node]  # Calculate the distance of the path\n",
    "            print(f'Path found: {path}')\n",
    "            print(f'Distance: {distance}')\n",
    "            return path, distance\n",
    "        open_set.remove(n)\n",
    "        closed_set.add(n)\n",
    "    print('Path does not exist!')\n",
    "    return None, None\n",
    "\n",
    "#define fuction to return neighbor and its distance\n",
    "#from the passed node\n",
    "def get_neighbors(v):\n",
    "    if v in Graph_nodes:\n",
    "        return Graph_nodes[v]\n",
    "    else:\n",
    "        return None"
   ]
  },
  {
   "cell_type": "code",
   "execution_count": 17,
   "id": "c0da3f20",
   "metadata": {},
   "outputs": [
    {
     "name": "stdout",
     "output_type": "stream",
     "text": [
      "Path found: ['C', 'B', 'E', 'F', 'G']\n",
      "Distance: 16.5\n"
     ]
    }
   ],
   "source": [
    "def heuristic(n):\n",
    "    H_dist = {\n",
    "        'A': 10.1,\n",
    "        'B': 5.8,\n",
    "        'C': 3.4,\n",
    "        'D': 9.2,\n",
    "        'E': 7.1,\n",
    "        'F': 3.5,\n",
    "        'G': 0,\n",
    "        'S': 11.5,\n",
    "    }\n",
    "    return H_dist[n]\n",
    "\n",
    "Graph_nodes = {\n",
    "    'A': [('S', 3), ('B', 4), ('D', 5)],\n",
    "    'B': [('A', 4), ('C', 4), ('E', 5)],\n",
    "    'C': [('B', 4)],\n",
    "    'D': [('A', 5), ('S', 4), ('E', 2)],\n",
    "    'E': [('D', 2), ('F', 4), ('B', 5)],\n",
    "    'F': [('E', 4), ('G', 3.5)],\n",
    "    'G': [('F', 3.5)],\n",
    "    'S': [('A', 3), ('D', 4)],\n",
    "}\n",
    "\n",
    "path, distance = aStarAlgo('C', 'G')"
   ]
  }
 ],
 "metadata": {
  "kernelspec": {
   "display_name": "Python 3 (ipykernel)",
   "language": "python",
   "name": "python3"
  },
  "language_info": {
   "codemirror_mode": {
    "name": "ipython",
    "version": 3
   },
   "file_extension": ".py",
   "mimetype": "text/x-python",
   "name": "python",
   "nbconvert_exporter": "python",
   "pygments_lexer": "ipython3",
   "version": "3.11.5"
  }
 },
 "nbformat": 4,
 "nbformat_minor": 5
}
