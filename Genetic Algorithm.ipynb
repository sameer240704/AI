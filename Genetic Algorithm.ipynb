{
 "cells": [
  {
   "cell_type": "code",
   "execution_count": 9,
   "id": "c83804c8",
   "metadata": {},
   "outputs": [
    {
     "name": "stdout",
     "output_type": "stream",
     "text": [
      "Best individual: 11.502771097345839\n",
      "Best fitness: 132.3137429179348\n"
     ]
    }
   ],
   "source": [
    "import random\n",
    "\n",
    "# Define parameters for the genetic algorithm\n",
    "population_size = 10\n",
    "num_generations = 100\n",
    "mutation_rate = 0.1\n",
    "\n",
    "# Define the optimization problem\n",
    "# Let's say we want to find the maximum value of a simple function f(x) = x^2\n",
    "def fitness_function(x):\n",
    "    return x ** 2\n",
    "\n",
    "# Define functions for genetic operators\n",
    "\n",
    "def initialize_population(population_size):\n",
    "    return [random.uniform(-10, 10) for _ in range(population_size)]\n",
    "\n",
    "def selection(population, fitness_values):\n",
    "    return random.choices(population, weights=fitness_values, k=2)\n",
    "\n",
    "def crossover(parent1, parent2):\n",
    "    return (parent1 + parent2) / 2  # Average crossover\n",
    "\n",
    "def mutation(individual):\n",
    "    if random.random() < mutation_rate:\n",
    "        return individual + random.uniform(-1, 1)\n",
    "    return individual\n",
    "\n",
    "def evaluate_population(population):\n",
    "    return [fitness_function(individual) for individual in population]\n",
    "\n",
    "def genetic_algorithm(population_size, num_generations):\n",
    "    population = initialize_population(population_size)\n",
    "    for _ in range(num_generations):\n",
    "        fitness_values = evaluate_population(population)\n",
    "        new_population = []\n",
    "        for _ in range(population_size // 2):\n",
    "            parent1, parent2 = selection(population, fitness_values)\n",
    "            child = crossover(parent1, parent2)\n",
    "            child = mutation(child)\n",
    "            new_population.extend([child])\n",
    "        population = new_population\n",
    "    best_individual = max(population, key=fitness_function)\n",
    "    return best_individual, fitness_function(best_individual)\n",
    "\n",
    "best_individual, best_fitness = genetic_algorithm(population_size, num_generations)\n",
    "print(\"Best individual:\", best_individual)\n",
    "print(\"Best fitness:\", best_fitness)"
   ]
  },
  {
   "cell_type": "code",
   "execution_count": null,
   "id": "9cdcf626",
   "metadata": {},
   "outputs": [],
   "source": []
  }
 ],
 "metadata": {
  "kernelspec": {
   "display_name": "Python 3 (ipykernel)",
   "language": "python",
   "name": "python3"
  },
  "language_info": {
   "codemirror_mode": {
    "name": "ipython",
    "version": 3
   },
   "file_extension": ".py",
   "mimetype": "text/x-python",
   "name": "python",
   "nbconvert_exporter": "python",
   "pygments_lexer": "ipython3",
   "version": "3.11.5"
  }
 },
 "nbformat": 4,
 "nbformat_minor": 5
}
