{
 "cells": [
  {
   "cell_type": "markdown",
   "id": "4156689b",
   "metadata": {},
   "source": [
    "### Breadth First Search "
   ]
  },
  {
   "cell_type": "code",
   "execution_count": 7,
   "id": "8465f3a0",
   "metadata": {},
   "outputs": [
    {
     "name": "stdout",
     "output_type": "stream",
     "text": [
      "Enter the number of vertices in the graph:7\n",
      "Enter the number of edges in the graph:11\n",
      "Enter the edges in the formal 'u, v', where u and v are the vertices connected by the edges:\n",
      "0 1\n",
      "0 3\n",
      "1 2\n",
      "1 3 \n",
      "1 5\n",
      "1 6\n",
      "2 3\n",
      "2 4\n",
      "2 5\n",
      "3 4\n",
      "4 6\n",
      "Enter the starting node for BFS Traversal in the graph:0\n",
      "0 1 3 2 5 6 4 "
     ]
    }
   ],
   "source": [
    "def BFS_Traversal(adjList, startNode, visited):\n",
    "    queue = []\n",
    "    \n",
    "    visited[startNode] = True\n",
    "    queue.append(startNode)\n",
    "    \n",
    "    while queue:\n",
    "        currentNode = queue.pop(0)\n",
    "        print(currentNode, end=\" \")\n",
    "        \n",
    "        for neighbor in adjList[currentNode]:\n",
    "            if not visited[neighbor]:\n",
    "                queue.append(neighbor)\n",
    "                visited[neighbor] = True\n",
    "\n",
    "def addEdge(adjList, u, v):\n",
    "    adjList[u].append(v)\n",
    "\n",
    "def main():\n",
    "    vertices = int(input(\"Enter the number of vertices in the graph: \"))\n",
    "    \n",
    "    adjList = [[] for _ in range(vertices)]\n",
    "    \n",
    "    edges = int(input(\"Enter the number of edges in the graph: \"))\n",
    "    \n",
    "    print(\"Enter the edges in the formal 'u, v', where u and v are the vertices connected by the edges: \")\n",
    "    for _ in range(edges):\n",
    "        u, v = map(int, input().split())\n",
    "        addEdge(adjList, u, v)\n",
    "        \n",
    "    visited = [False] * vertices\n",
    "        \n",
    "    startNode = int(input(\"Enter the starting node for BFS Traversal in the graph: \"))\n",
    "    BFS_Traversal(adjList, startNode, visited)\n",
    "\n",
    "if __name__ == \"__main__\":\n",
    "    main()"
   ]
  },
  {
   "cell_type": "markdown",
   "id": "ecf32c4f",
   "metadata": {},
   "source": [
    "### Depth First Search "
   ]
  },
  {
   "cell_type": "code",
   "execution_count": 10,
   "id": "8a445c62",
   "metadata": {},
   "outputs": [
    {
     "name": "stdout",
     "output_type": "stream",
     "text": [
      "Enter the number of edges in the graph: 6\n",
      "Enter the edges in format 'u, v', where u and v are vertices connected by an edge: \n",
      "0 1\n",
      "0 2\n",
      "1 2\n",
      "2 0\n",
      "2 3\n",
      "3 3\n",
      "Enter the starting vertex for DFS Traversal: 2\n",
      "DFS Traversal starting from vertex 2 is: \n",
      "2 0 1 3 "
     ]
    }
   ],
   "source": [
    "class Graph:\n",
    "    def __init__(self):\n",
    "        self.graph = {}\n",
    "    \n",
    "    def addEdge(self, u, v):\n",
    "        if u not in self.graph:\n",
    "            self.graph[u] = []\n",
    "        self.graph[u].append(v)\n",
    "        \n",
    "    def DFSUtil(self, v, visited):\n",
    "        visited.add(v)\n",
    "        print(v, end=\" \")\n",
    "        \n",
    "        for neighbor in self.graph.get(v, []):\n",
    "            if neighbor not in visited:\n",
    "                self.DFSUtil(neighbor, visited)\n",
    "                \n",
    "    def DFS(self, v):\n",
    "        visited = set()\n",
    "        self.DFSUtil(v, visited)\n",
    "\n",
    "if __name__ == \"__main__\":\n",
    "    g = Graph()\n",
    "    \n",
    "    edges = int(input(\"Enter the number of edges in the graph: \"))\n",
    "    \n",
    "    print(\"Enter the edges in format 'u, v', where u and v are vertices connected by an edge: \")\n",
    "    for i in range(edges):\n",
    "        u, v = map(int, input().split())\n",
    "        g.addEdge(u, v)\n",
    "    \n",
    "    startVertex = int(input(\"Enter the starting vertex for DFS Traversal: \"))\n",
    "    \n",
    "    print(f\"DFS Traversal starting from vertex {startVertex} is: \")\n",
    "    g.DFS(startVertex)"
   ]
  },
  {
   "cell_type": "markdown",
   "id": "39df671d",
   "metadata": {},
   "source": [
    "### Iterative Deepening Depth First Search "
   ]
  },
  {
   "cell_type": "code",
   "execution_count": 14,
   "id": "a0e58a5d",
   "metadata": {},
   "outputs": [
    {
     "name": "stdout",
     "output_type": "stream",
     "text": [
      "Enter the number of vertices in the graph: 7\n",
      "Enter the number of edges: 6\n",
      "Enter edges in the format 'u v', where u and v are vertices connected by an edge:\n",
      "0 1\n",
      "0 2\n",
      "1 3\n",
      "1 4\n",
      "2 5\n",
      "2 6\n",
      "Enter the target vertex: 6\n",
      "Enter the maximum depth: 2\n",
      "Enter the source vertex: 0\n",
      "IDDFS\n",
      "Target is NOT reachable from source within max depth\n",
      "DLS\n",
      "Target is reachable from source within max depth at depth: 2\n"
     ]
    }
   ],
   "source": [
    "class Graph: \n",
    "    def __init__(self,vertices):\n",
    "        self.V = vertices\n",
    "        self.graph = {}\n",
    "        for i in range(self.V):\n",
    "            self.graph[i] = []\n",
    "\n",
    "    def addEdge(self,u,v):\n",
    "        self.graph[u].append(v)\n",
    "\n",
    "    def DLS(self,src,target,maxDepth):\n",
    "        if src == target : \n",
    "            return True, 0  \n",
    "    \n",
    "        if maxDepth <= 0 : \n",
    "            return False, 0 \n",
    "\n",
    "        for i in self.graph[src]:\n",
    "            found, depth = self.DLS(i,target,maxDepth-1)\n",
    "            if found:\n",
    "                return True, depth + 1  \n",
    "        return False, 0\n",
    "\n",
    "    def IDDFS(self,src, target, maxDepth):\n",
    "        for i in range(maxDepth):\n",
    "            found, depth = self.DLS(src, target, i)\n",
    "            if found:\n",
    "                return True, depth  \n",
    "        return False, 0\n",
    "\n",
    "def createGraph():\n",
    "    vertices = int(input(\"Enter the number of vertices in the graph: \"))\n",
    "    g = Graph(vertices)\n",
    "    edges = int(input(\"Enter the number of edges: \"))\n",
    "    print(\"Enter edges in the format 'u v', where u and v are vertices connected by an edge:\")\n",
    "    for _ in range(edges):\n",
    "        u, v = map(int, input().split())\n",
    "        g.addEdge(u, v)\n",
    "    return g\n",
    " \n",
    "if __name__ == \"__main__\":\n",
    "    g = createGraph()\n",
    " \n",
    "    target = int(input(\"Enter the target vertex: \"))\n",
    "    maxDepth = int(input(\"Enter the maximum depth: \"))\n",
    "    src = int(input(\"Enter the source vertex: \"))\n",
    "     \n",
    "    print(\"IDDFS\")\n",
    "    found, depth = g.IDDFS(src, target, maxDepth)\n",
    "    if found:\n",
    "        print(\"Target is reachable from source within max depth at depth:\", depth)\n",
    "    else:\n",
    "        print(\"Target is NOT reachable from source within max depth\")"
   ]
  },
  {
   "cell_type": "code",
   "execution_count": 18,
   "id": "60196376",
   "metadata": {},
   "outputs": [
    {
     "name": "stdout",
     "output_type": "stream",
     "text": [
      "Goal is reachable!\n"
     ]
    }
   ],
   "source": [
    "import heapq\n",
    "\n",
    "def greedy_best_first_search(graph, start, goal, heuristic):\n",
    "    visited = set()\n",
    "    heap = [(heuristic(start, goal), start)]\n",
    "    \n",
    "    while heap:\n",
    "        (cost, node) = heapq.heappop(heap)\n",
    "        \n",
    "        if node == goal:\n",
    "            return True\n",
    "        \n",
    "        visited.add(node)\n",
    "        for neighbor in graph[node]:\n",
    "            if neighbor not in visited:\n",
    "                heapq.heappush(heap, (heuristic(neighbor, goal), neighbor))\n",
    "    \n",
    "    return False\n",
    "\n",
    "# Example heuristic function: Manhattan distance\n",
    "def manhattan_distance(node, goal):\n",
    "    return abs(node[0] - goal[0]) + abs(node[1] - goal[1])\n",
    "\n",
    "# Example graph represented as an adjacency list\n",
    "graph = {\n",
    "    (0, 0): [(0, 1), (1, 0)],\n",
    "    (0, 1): [(0, 0), (0, 2)],\n",
    "    (0, 2): [(0, 1), (1, 2)],\n",
    "    (1, 0): [(0, 0), (2, 0)],\n",
    "    (1, 2): [(0, 2), (2, 2)],\n",
    "    (2, 0): [(1, 0), (2, 1)],\n",
    "    (2, 1): [(2, 0), (2, 2)],\n",
    "    (2, 2): [(1, 2), (2, 1)]\n",
    "}\n",
    "\n",
    "start = (0, 0)\n",
    "goal = (2, 2)\n",
    "\n",
    "if greedy_best_first_search(graph, start, goal, manhattan_distance):\n",
    "    print(\"Goal is reachable!\")\n",
    "else:\n",
    "    print(\"Goal is not reachable.\")\n"
   ]
  },
  {
   "cell_type": "code",
   "execution_count": null,
   "id": "70838759",
   "metadata": {},
   "outputs": [],
   "source": []
  }
 ],
 "metadata": {
  "kernelspec": {
   "display_name": "Python 3 (ipykernel)",
   "language": "python",
   "name": "python3"
  },
  "language_info": {
   "codemirror_mode": {
    "name": "ipython",
    "version": 3
   },
   "file_extension": ".py",
   "mimetype": "text/x-python",
   "name": "python",
   "nbconvert_exporter": "python",
   "pygments_lexer": "ipython3",
   "version": "3.11.5"
  }
 },
 "nbformat": 4,
 "nbformat_minor": 5
}
