{
 "cells": [
  {
   "cell_type": "code",
   "execution_count": 12,
   "id": "8816627e",
   "metadata": {},
   "outputs": [
    {
     "name": "stdout",
     "output_type": "stream",
     "text": [
      "Best path: [1, 0, 2, 3]\n",
      "Best distance: 80\n"
     ]
    }
   ],
   "source": [
    "import random\n",
    "import numpy as np\n",
    "\n",
    "# Define the distance matrix for the cities\n",
    "distance_matrix = [\n",
    "    [0, 10, 15, 20],\n",
    "    [10, 0, 35, 25],\n",
    "    [15, 35, 0, 30],\n",
    "    [20, 25, 30, 0]\n",
    "]\n",
    "\n",
    "# Define parameters for the ACO algorithm\n",
    "num_ants = 5\n",
    "num_iterations = 100\n",
    "evaporation_rate = 0.5\n",
    "alpha = 1.0\n",
    "beta = 2.0\n",
    "initial_pheromone_level = 1.0\n",
    "\n",
    "# Initialize pheromone trails\n",
    "pheromone_matrix = np.full((len(distance_matrix), len(distance_matrix)), initial_pheromone_level)\n",
    "\n",
    "def get_path_distance(path):\n",
    "    total_distance = 0\n",
    "    for i in range(len(path) - 1):\n",
    "        total_distance += distance_matrix[path[i]][path[i + 1]]\n",
    "    total_distance += distance_matrix[path[-1]][path[0]]  # Return to the starting city\n",
    "    return total_distance\n",
    "\n",
    "def select_next_city(current_city, visited_cities):\n",
    "    unvisited_cities = [city for city in range(len(distance_matrix)) if city not in visited_cities]\n",
    "    probabilities = []\n",
    "    total = 0\n",
    "    for city in unvisited_cities:\n",
    "        pheromone = pheromone_matrix[current_city][city]\n",
    "        distance = distance_matrix[current_city][city]\n",
    "        total += (pheromone ** alpha) * ((1.0 / distance) ** beta)\n",
    "        probabilities.append(total)\n",
    "    selected_city = None\n",
    "    rand = random.uniform(0, total)\n",
    "    for i, probability in enumerate(probabilities):\n",
    "        if rand <= probability:\n",
    "            selected_city = unvisited_cities[i]\n",
    "            break\n",
    "    return selected_city\n",
    "\n",
    "def update_pheromones(pheromone_matrix, ant_paths, evaporation_rate):\n",
    "    pheromone_matrix *= (1 - evaporation_rate)  # Evaporate pheromones\n",
    "    for path_distance, path in ant_paths:\n",
    "        for i in range(len(path) - 1):\n",
    "            pheromone_matrix[path[i]][path[i + 1]] += 1.0 / path_distance\n",
    "        pheromone_matrix[path[-1]][path[0]] += 1.0 / path_distance  # Return to the starting city\n",
    "\n",
    "def ant_colony_optimization(num_ants, num_iterations):\n",
    "    global pheromone_matrix\n",
    "    best_path = None\n",
    "    best_distance = float('inf')\n",
    "    for _ in range(num_iterations):\n",
    "        ant_paths = []\n",
    "        for ant in range(num_ants):\n",
    "            current_city = random.randint(0, len(distance_matrix) - 1)\n",
    "            visited_cities = [current_city]\n",
    "            while len(visited_cities) < len(distance_matrix):\n",
    "                next_city = select_next_city(current_city, visited_cities)\n",
    "                if next_city is None:\n",
    "                    break\n",
    "                visited_cities.append(next_city)\n",
    "                current_city = next_city\n",
    "            if len(visited_cities) == len(distance_matrix):\n",
    "                path_distance = get_path_distance(visited_cities)\n",
    "                ant_paths.append((path_distance, visited_cities))\n",
    "                if path_distance < best_distance:\n",
    "                    best_distance = path_distance\n",
    "                    best_path = visited_cities\n",
    "        update_pheromones(pheromone_matrix, ant_paths, evaporation_rate)\n",
    "    return best_path, best_distance\n",
    "\n",
    "best_path, best_distance = ant_colony_optimization(num_ants, num_iterations)\n",
    "print(\"Best path:\", best_path)\n",
    "print(\"Best distance:\", best_distance)"
   ]
  },
  {
   "cell_type": "code",
   "execution_count": null,
   "id": "8385ef8d",
   "metadata": {},
   "outputs": [],
   "source": []
  },
  {
   "cell_type": "code",
   "execution_count": null,
   "id": "390fedab",
   "metadata": {},
   "outputs": [],
   "source": []
  }
 ],
 "metadata": {
  "kernelspec": {
   "display_name": "Python 3 (ipykernel)",
   "language": "python",
   "name": "python3"
  },
  "language_info": {
   "codemirror_mode": {
    "name": "ipython",
    "version": 3
   },
   "file_extension": ".py",
   "mimetype": "text/x-python",
   "name": "python",
   "nbconvert_exporter": "python",
   "pygments_lexer": "ipython3",
   "version": "3.11.5"
  }
 },
 "nbformat": 4,
 "nbformat_minor": 5
}
